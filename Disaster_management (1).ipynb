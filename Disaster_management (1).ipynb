{
  "nbformat": 4,
  "nbformat_minor": 0,
  "metadata": {
    "colab": {
      "provenance": []
    },
    "kernelspec": {
      "name": "python3",
      "display_name": "Python 3"
    },
    "language_info": {
      "name": "python"
    }
  },
  "cells": [
    {
      "cell_type": "code",
      "source": [
        "import pandas as pd\n",
        "import spacy\n",
        "import re\n",
        "\n",
        "# Loading the spaCy English model can be done with this line\n",
        "nlp = spacy.load(\"en_core_web_sm\")\n",
        "\n",
        "# Extracting details from text might be handled by this function\n",
        "def extract_details(text):\n",
        "    doc = nlp(text)\n",
        "\n",
        "    # Places such as GPE and LOC can be extracted as follows\n",
        "    places = [ent.text for ent in doc.ents if ent.label_ in ['GPE', 'LOC']]\n",
        "\n",
        "    # Dates may be identified using this method\n",
        "    dates = [ent.text for ent in doc.ents if ent.label_ == 'DATE']\n",
        "\n",
        "    # Casualties can be detected with regex patterns like these\n",
        "    dead = re.findall(r'(\\d+)\\s*(deaths?|dead|killed|fatalities)', text, re.IGNORECASE)\n",
        "    dead = dead[0][0] if dead else None\n",
        "\n",
        "    injured = re.findall(r'(\\d+)\\s*(injured|wounded)', text, re.IGNORECASE)\n",
        "    injured = injured[0][0] if injured else None\n",
        "\n",
        "    # Returning a dictionary with extracted information might be done here\n",
        "    return {\n",
        "        \"location\": \", \".join(places),\n",
        "        \"date\": \", \".join(dates),\n",
        "        \"dead\": dead,\n",
        "        \"injured\": injured\n",
        "    }\n",
        "\n",
        "# Reading raw data from the CSV file with the specified encoding can be accomplished this way\n",
        "data = pd.read_csv('//content//revised_2.csv', header=None, encoding='ISO-8859-1')\n",
        "\n",
        "# Adjusting column names to match expectations can be done as follows\n",
        "data.columns = ['text']\n",
        "\n",
        "# Applying the extraction function to each row might be done like this\n",
        "data['details'] = data['text'].apply(extract_details)\n",
        "\n",
        "# Creating a DataFrame with separate columns for location, date, dead, and injured can be achieved this way\n",
        "extracted_data = pd.DataFrame(data['details'].tolist())\n",
        "\n",
        "# Merging the original text with the extracted details for reference can be done using this approach\n",
        "final_data = pd.concat([data['text'], extracted_data], axis=1)\n",
        "\n",
        "# Adding a heading column can be done by inserting it at the beginning\n",
        "final_data.insert(0, 'Heading', 'Incident Report')  # Customizable heading\n",
        "\n",
        "# Setting a category column might be handled like this\n",
        "final_data['Category'] = 'General'  # This can be customized or adjusted based on logic\n",
        "\n",
        "# Saving the final data to a new CSV file is achieved with this line\n",
        "final_data.to_csv('Final_2.csv', index=False)\n",
        "\n",
        "# Printing a message to confirm completion can be done with this line\n",
        "print(\"Data has been successfully processed and saved to Final_2.csv.\")\n"
      ],
      "metadata": {
        "colab": {
          "base_uri": "https://localhost:8080/"
        },
        "id": "ZZ3jMhf3n-bv",
        "outputId": "3bcea287-355c-4717-9e00-21df000905a3"
      },
      "execution_count": 6,
      "outputs": [
        {
          "output_type": "stream",
          "name": "stdout",
          "text": [
            "Data has been successfully processed and saved to Final_2.csv.\n"
          ]
        }
      ]
    },
    {
      "cell_type": "code",
      "source": [],
      "metadata": {
        "id": "aUDwGqann_EH"
      },
      "execution_count": null,
      "outputs": []
    }
  ]
}